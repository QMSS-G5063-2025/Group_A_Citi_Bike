{
 "cells": [
  {
   "cell_type": "code",
   "execution_count": 1,
   "id": "b4928237-eb66-47f6-98d2-4b151d6fe0ec",
   "metadata": {},
   "outputs": [],
   "source": [
    "import numpy as np\n",
    "import pandas as pd\n",
    "import os\n",
    "from pathlib import Path\n",
    "import geopandas as gpd\n",
    "from shapely.geometry import Point\n"
   ]
  },
  {
   "cell_type": "markdown",
   "id": "c0ffcac4-fb32-455c-941f-3bb559c69f81",
   "metadata": {},
   "source": [
    "Load CITI Bike Data"
   ]
  },
  {
   "cell_type": "code",
   "execution_count": 1,
   "id": "2ad4e305-6fef-4918-8ef6-fed1f7715459",
   "metadata": {},
   "outputs": [
    {
     "name": "stderr",
     "output_type": "stream",
     "text": [
      "C:\\Users\\varsh\\AppData\\Local\\Temp\\ipykernel_14620\\3711521167.py:28: DtypeWarning: Columns (5,7) have mixed types. Specify dtype option on import or set low_memory=False.\n",
      "  df = pd.read_csv(file)\n"
     ]
    },
    {
     "name": "stdout",
     "output_type": "stream",
     "text": [
      "202401-citibike-tripdata loaded with 1888085 rows.\n"
     ]
    },
    {
     "name": "stderr",
     "output_type": "stream",
     "text": [
      "C:\\Users\\varsh\\AppData\\Local\\Temp\\ipykernel_14620\\3711521167.py:28: DtypeWarning: Columns (5,7) have mixed types. Specify dtype option on import or set low_memory=False.\n",
      "  df = pd.read_csv(file)\n"
     ]
    },
    {
     "name": "stdout",
     "output_type": "stream",
     "text": [
      "202402-citibike-tripdata loaded with 2121501 rows.\n"
     ]
    },
    {
     "name": "stderr",
     "output_type": "stream",
     "text": [
      "C:\\Users\\varsh\\AppData\\Local\\Temp\\ipykernel_14620\\3711521167.py:28: DtypeWarning: Columns (5,7) have mixed types. Specify dtype option on import or set low_memory=False.\n",
      "  df = pd.read_csv(file)\n"
     ]
    },
    {
     "name": "stdout",
     "output_type": "stream",
     "text": [
      "202403-citibike-tripdata loaded with 2663295 rows.\n"
     ]
    },
    {
     "name": "stderr",
     "output_type": "stream",
     "text": [
      "C:\\Users\\varsh\\AppData\\Local\\Temp\\ipykernel_14620\\3711521167.py:28: DtypeWarning: Columns (5,7) have mixed types. Specify dtype option on import or set low_memory=False.\n",
      "  df = pd.read_csv(file)\n"
     ]
    },
    {
     "name": "stdout",
     "output_type": "stream",
     "text": [
      "202404-citibike-tripdata loaded with 3217063 rows.\n"
     ]
    },
    {
     "name": "stderr",
     "output_type": "stream",
     "text": [
      "C:\\Users\\varsh\\AppData\\Local\\Temp\\ipykernel_14620\\3711521167.py:28: DtypeWarning: Columns (7) have mixed types. Specify dtype option on import or set low_memory=False.\n",
      "  df = pd.read_csv(file)\n",
      "C:\\Users\\varsh\\AppData\\Local\\Temp\\ipykernel_14620\\3711521167.py:28: DtypeWarning: Columns (5,7) have mixed types. Specify dtype option on import or set low_memory=False.\n",
      "  df = pd.read_csv(file)\n",
      "C:\\Users\\varsh\\AppData\\Local\\Temp\\ipykernel_14620\\3711521167.py:28: DtypeWarning: Columns (5,7) have mixed types. Specify dtype option on import or set low_memory=False.\n",
      "  df = pd.read_csv(file)\n",
      "C:\\Users\\varsh\\AppData\\Local\\Temp\\ipykernel_14620\\3711521167.py:28: DtypeWarning: Columns (5,7) have mixed types. Specify dtype option on import or set low_memory=False.\n",
      "  df = pd.read_csv(file)\n",
      "C:\\Users\\varsh\\AppData\\Local\\Temp\\ipykernel_14620\\3711521167.py:28: DtypeWarning: Columns (5,7) have mixed types. Specify dtype option on import or set low_memory=False.\n",
      "  df = pd.read_csv(file)\n"
     ]
    },
    {
     "name": "stdout",
     "output_type": "stream",
     "text": [
      "202405-citibike-tripdata loaded with 4230360 rows.\n"
     ]
    },
    {
     "name": "stderr",
     "output_type": "stream",
     "text": [
      "C:\\Users\\varsh\\AppData\\Local\\Temp\\ipykernel_14620\\3711521167.py:28: DtypeWarning: Columns (7) have mixed types. Specify dtype option on import or set low_memory=False.\n",
      "  df = pd.read_csv(file)\n",
      "C:\\Users\\varsh\\AppData\\Local\\Temp\\ipykernel_14620\\3711521167.py:28: DtypeWarning: Columns (5,7) have mixed types. Specify dtype option on import or set low_memory=False.\n",
      "  df = pd.read_csv(file)\n",
      "C:\\Users\\varsh\\AppData\\Local\\Temp\\ipykernel_14620\\3711521167.py:28: DtypeWarning: Columns (5,7) have mixed types. Specify dtype option on import or set low_memory=False.\n",
      "  df = pd.read_csv(file)\n",
      "C:\\Users\\varsh\\AppData\\Local\\Temp\\ipykernel_14620\\3711521167.py:28: DtypeWarning: Columns (7) have mixed types. Specify dtype option on import or set low_memory=False.\n",
      "  df = pd.read_csv(file)\n",
      "C:\\Users\\varsh\\AppData\\Local\\Temp\\ipykernel_14620\\3711521167.py:28: DtypeWarning: Columns (5,7) have mixed types. Specify dtype option on import or set low_memory=False.\n",
      "  df = pd.read_csv(file)\n"
     ]
    },
    {
     "name": "stdout",
     "output_type": "stream",
     "text": [
      "202406-citibike-tripdata loaded with 4783576 rows.\n"
     ]
    },
    {
     "name": "stderr",
     "output_type": "stream",
     "text": [
      "C:\\Users\\varsh\\AppData\\Local\\Temp\\ipykernel_14620\\3711521167.py:28: DtypeWarning: Columns (8) have mixed types. Specify dtype option on import or set low_memory=False.\n",
      "  df = pd.read_csv(file)\n",
      "C:\\Users\\varsh\\AppData\\Local\\Temp\\ipykernel_14620\\3711521167.py:28: DtypeWarning: Columns (8) have mixed types. Specify dtype option on import or set low_memory=False.\n",
      "  df = pd.read_csv(file)\n",
      "C:\\Users\\varsh\\AppData\\Local\\Temp\\ipykernel_14620\\3711521167.py:28: DtypeWarning: Columns (8) have mixed types. Specify dtype option on import or set low_memory=False.\n",
      "  df = pd.read_csv(file)\n",
      "C:\\Users\\varsh\\AppData\\Local\\Temp\\ipykernel_14620\\3711521167.py:28: DtypeWarning: Columns (8) have mixed types. Specify dtype option on import or set low_memory=False.\n",
      "  df = pd.read_csv(file)\n",
      "C:\\Users\\varsh\\AppData\\Local\\Temp\\ipykernel_14620\\3711521167.py:28: DtypeWarning: Columns (6,8) have mixed types. Specify dtype option on import or set low_memory=False.\n",
      "  df = pd.read_csv(file)\n"
     ]
    },
    {
     "name": "stdout",
     "output_type": "stream",
     "text": [
      "202407-citibike-tripdata loaded with 4722896 rows.\n"
     ]
    },
    {
     "name": "stderr",
     "output_type": "stream",
     "text": [
      "C:\\Users\\varsh\\AppData\\Local\\Temp\\ipykernel_14620\\3711521167.py:28: DtypeWarning: Columns (6,8) have mixed types. Specify dtype option on import or set low_memory=False.\n",
      "  df = pd.read_csv(file)\n",
      "C:\\Users\\varsh\\AppData\\Local\\Temp\\ipykernel_14620\\3711521167.py:28: DtypeWarning: Columns (6,8) have mixed types. Specify dtype option on import or set low_memory=False.\n",
      "  df = pd.read_csv(file)\n",
      "C:\\Users\\varsh\\AppData\\Local\\Temp\\ipykernel_14620\\3711521167.py:28: DtypeWarning: Columns (6,8) have mixed types. Specify dtype option on import or set low_memory=False.\n",
      "  df = pd.read_csv(file)\n",
      "C:\\Users\\varsh\\AppData\\Local\\Temp\\ipykernel_14620\\3711521167.py:28: DtypeWarning: Columns (6,8) have mixed types. Specify dtype option on import or set low_memory=False.\n",
      "  df = pd.read_csv(file)\n",
      "C:\\Users\\varsh\\AppData\\Local\\Temp\\ipykernel_14620\\3711521167.py:28: DtypeWarning: Columns (6,8) have mixed types. Specify dtype option on import or set low_memory=False.\n",
      "  df = pd.read_csv(file)\n"
     ]
    },
    {
     "name": "stdout",
     "output_type": "stream",
     "text": [
      "202408-citibike-tripdata loaded with 4603575 rows.\n"
     ]
    },
    {
     "name": "stderr",
     "output_type": "stream",
     "text": [
      "C:\\Users\\varsh\\AppData\\Local\\Temp\\ipykernel_14620\\3711521167.py:28: DtypeWarning: Columns (5,7) have mixed types. Specify dtype option on import or set low_memory=False.\n",
      "  df = pd.read_csv(file)\n",
      "C:\\Users\\varsh\\AppData\\Local\\Temp\\ipykernel_14620\\3711521167.py:28: DtypeWarning: Columns (7) have mixed types. Specify dtype option on import or set low_memory=False.\n",
      "  df = pd.read_csv(file)\n",
      "C:\\Users\\varsh\\AppData\\Local\\Temp\\ipykernel_14620\\3711521167.py:28: DtypeWarning: Columns (5,7) have mixed types. Specify dtype option on import or set low_memory=False.\n",
      "  df = pd.read_csv(file)\n",
      "C:\\Users\\varsh\\AppData\\Local\\Temp\\ipykernel_14620\\3711521167.py:28: DtypeWarning: Columns (5,7) have mixed types. Specify dtype option on import or set low_memory=False.\n",
      "  df = pd.read_csv(file)\n",
      "C:\\Users\\varsh\\AppData\\Local\\Temp\\ipykernel_14620\\3711521167.py:28: DtypeWarning: Columns (7) have mixed types. Specify dtype option on import or set low_memory=False.\n",
      "  df = pd.read_csv(file)\n"
     ]
    },
    {
     "name": "stdout",
     "output_type": "stream",
     "text": [
      "202409-citibike-tripdata loaded with 4997898 rows.\n"
     ]
    },
    {
     "name": "stderr",
     "output_type": "stream",
     "text": [
      "C:\\Users\\varsh\\AppData\\Local\\Temp\\ipykernel_14620\\3711521167.py:28: DtypeWarning: Columns (5,7) have mixed types. Specify dtype option on import or set low_memory=False.\n",
      "  df = pd.read_csv(file)\n",
      "C:\\Users\\varsh\\AppData\\Local\\Temp\\ipykernel_14620\\3711521167.py:28: DtypeWarning: Columns (7) have mixed types. Specify dtype option on import or set low_memory=False.\n",
      "  df = pd.read_csv(file)\n",
      "C:\\Users\\varsh\\AppData\\Local\\Temp\\ipykernel_14620\\3711521167.py:28: DtypeWarning: Columns (5,7) have mixed types. Specify dtype option on import or set low_memory=False.\n",
      "  df = pd.read_csv(file)\n",
      "C:\\Users\\varsh\\AppData\\Local\\Temp\\ipykernel_14620\\3711521167.py:28: DtypeWarning: Columns (5,7) have mixed types. Specify dtype option on import or set low_memory=False.\n",
      "  df = pd.read_csv(file)\n",
      "C:\\Users\\varsh\\AppData\\Local\\Temp\\ipykernel_14620\\3711521167.py:28: DtypeWarning: Columns (5,7) have mixed types. Specify dtype option on import or set low_memory=False.\n",
      "  df = pd.read_csv(file)\n",
      "C:\\Users\\varsh\\AppData\\Local\\Temp\\ipykernel_14620\\3711521167.py:28: DtypeWarning: Columns (5) have mixed types. Specify dtype option on import or set low_memory=False.\n",
      "  df = pd.read_csv(file)\n"
     ]
    },
    {
     "name": "stdout",
     "output_type": "stream",
     "text": [
      "202410-citibike-tripdata loaded with 5150054 rows.\n"
     ]
    },
    {
     "name": "stderr",
     "output_type": "stream",
     "text": [
      "C:\\Users\\varsh\\AppData\\Local\\Temp\\ipykernel_14620\\3711521167.py:28: DtypeWarning: Columns (7) have mixed types. Specify dtype option on import or set low_memory=False.\n",
      "  df = pd.read_csv(file)\n",
      "C:\\Users\\varsh\\AppData\\Local\\Temp\\ipykernel_14620\\3711521167.py:28: DtypeWarning: Columns (7) have mixed types. Specify dtype option on import or set low_memory=False.\n",
      "  df = pd.read_csv(file)\n",
      "C:\\Users\\varsh\\AppData\\Local\\Temp\\ipykernel_14620\\3711521167.py:28: DtypeWarning: Columns (5,7) have mixed types. Specify dtype option on import or set low_memory=False.\n",
      "  df = pd.read_csv(file)\n",
      "C:\\Users\\varsh\\AppData\\Local\\Temp\\ipykernel_14620\\3711521167.py:28: DtypeWarning: Columns (7) have mixed types. Specify dtype option on import or set low_memory=False.\n",
      "  df = pd.read_csv(file)\n"
     ]
    },
    {
     "name": "stdout",
     "output_type": "stream",
     "text": [
      "202411-citibike-tripdata loaded with 3710134 rows.\n"
     ]
    },
    {
     "name": "stderr",
     "output_type": "stream",
     "text": [
      "C:\\Users\\varsh\\AppData\\Local\\Temp\\ipykernel_14620\\3711521167.py:28: DtypeWarning: Columns (5,7) have mixed types. Specify dtype option on import or set low_memory=False.\n",
      "  df = pd.read_csv(file)\n",
      "C:\\Users\\varsh\\AppData\\Local\\Temp\\ipykernel_14620\\3711521167.py:28: DtypeWarning: Columns (5,7) have mixed types. Specify dtype option on import or set low_memory=False.\n",
      "  df = pd.read_csv(file)\n"
     ]
    },
    {
     "name": "stdout",
     "output_type": "stream",
     "text": [
      "202412-citibike-tripdata loaded with 2311171 rows.\n"
     ]
    }
   ],
   "source": [
    "#base dir path\n",
    "base_dir = Path(\"data\")\n",
    "\n",
    "monthly_dfs = {}\n",
    "\n",
    "#loop through each month and read all folders in that month\n",
    "for month in range(1, 13):\n",
    "    #file name formatted based on citi bike format\n",
    "    folder_name = f\"2024{month:02d}-citibike-tripdata\"\n",
    "    folder_path = base_dir / folder_name\n",
    "    \n",
    "    #sanity check\n",
    "    if not folder_path.exists():\n",
    "        print(f\"Missing folder: {folder_path}\")\n",
    "        continue\n",
    "\n",
    "    monthly_df_list = []\n",
    "\n",
    "    #look thorugh all files in folder\n",
    "    for file in folder_path.glob(\"*.csv\"):\n",
    "        try:\n",
    "            df = pd.read_csv(file)\n",
    "            monthly_df_list.append(df)\n",
    "        except Exception as e:\n",
    "            print(f\"Failed to read {file}: {e}\")\n",
    "\n",
    "#make month list\n",
    "    if monthly_df_list:\n",
    "        full_month_df = pd.concat(monthly_df_list, ignore_index=True)\n",
    "        monthly_dfs[folder_name] = full_month_df\n",
    "        #print statement indicating proper month loading\n",
    "        print(f\"{folder_name} loaded with {len(full_month_df)} rows.\")\n",
    "    else:\n",
    "        print(f\"No data loaded for {folder_name}\")\n",
    "\n"
   ]
  },
  {
   "cell_type": "markdown",
   "id": "7972c9ce-c47d-499b-a8ec-3d5f53b6354e",
   "metadata": {},
   "source": [
    "Create monthly ride counts for seasonal trend plot"
   ]
  },
  {
   "cell_type": "code",
   "execution_count": 4,
   "id": "198f6e4f-216e-4b84-af26-15af1eadd84a",
   "metadata": {},
   "outputs": [],
   "source": [
    "#ride counts per month\n",
    "ride_counts = [(month, len(df)) for month, df in monthly_dfs.items()]\n",
    "monthly_counts_df = pd.DataFrame(ride_counts, columns=[\"month\", \"ride_count\"])\n",
    "#sort by month (just in case they're out of order)\n",
    "monthly_counts_df = monthly_counts_df.sort_values(\"month\").reset_index(drop=True)\n",
    "\n"
   ]
  },
  {
   "cell_type": "code",
   "execution_count": 5,
   "id": "c7fac9eb-92e9-490b-9852-7b338366f886",
   "metadata": {},
   "outputs": [],
   "source": [
    "#cleaning monthly df to extract month from df\n",
    "monthly_counts_df['month_clean'] = monthly_counts_df['month'].str.extract(r'(2024\\d{2})')\n",
    "#convert to date time, and create labels\n",
    "monthly_counts_df['month_dt'] = pd.to_datetime(monthly_counts_df['month_clean'], format='%Y%m')\n",
    "monthly_counts_df['month_label'] = monthly_counts_df['month_dt'].dt.strftime('%b')\n",
    "monthly_counts_df = monthly_counts_df.sort_values('month_dt')\n",
    "monthly_counts_df[\"count_divide\"] = monthly_counts_df[\"ride_count\"]/1000000\n"
   ]
  },
  {
   "cell_type": "code",
   "execution_count": 6,
   "id": "cbdbbcba-fda4-4680-b299-4253ee6c3812",
   "metadata": {},
   "outputs": [],
   "source": [
    "#seasonal df use\n",
    "monthly_counts_df.to_csv(\"monthly_counts_df.csv\", index=False)\n"
   ]
  },
  {
   "cell_type": "markdown",
   "id": "fae078ad-c6af-44ee-abad-116dd6956a51",
   "metadata": {},
   "source": [
    "Creating Duration and Distance for July Data"
   ]
  },
  {
   "cell_type": "code",
   "execution_count": 9,
   "id": "26a8a508-4a76-4f9e-aa8f-b9e130247ece",
   "metadata": {},
   "outputs": [],
   "source": [
    "#compute distance in km\n",
    "\n",
    "def haversine(lat1, lon1, lat2, lon2):\n",
    "    R = 6371 #earths radius\n",
    "    lat1 = np.radians(lat1)\n",
    "    lat2 = np.radians(lat2)\n",
    "    dlat = lat2 - lat1\n",
    "    dlon = np.radians(lon2 - lon1)\n",
    "\n",
    "    a = np.sin(dlat / 2)**2 + np.cos(lat1) * np.cos(lat2) * np.sin(dlon / 2)**2\n",
    "    c = 2 * np.arcsin(np.sqrt(a))\n",
    "    return R * c\n",
    "\n"
   ]
  },
  {
   "cell_type": "code",
   "execution_count": 10,
   "id": "553cc89d-6d78-42db-ba68-9ad701d20624",
   "metadata": {},
   "outputs": [],
   "source": [
    "df_july = monthly_dfs[\"202407-citibike-tripdata\"].copy()"
   ]
  },
  {
   "cell_type": "code",
   "execution_count": 11,
   "id": "c8fa739b-6a30-4f3c-8ae2-cf945b71b666",
   "metadata": {},
   "outputs": [],
   "source": [
    "df_july['started_at'] = pd.to_datetime(df_july['started_at'])\n",
    "df_july['ended_at'] = pd.to_datetime(df_july['ended_at'])\n",
    "\n",
    "#using datetime finding duration in minutes\n",
    "df_july['duration_min'] = (df_july['ended_at'] - df_july['started_at']).dt.total_seconds() / 60\n",
    "#using haversine to calculate distance from start and end, long and lat\n",
    "df_july['distance_km'] = haversine(df_july['start_lat'], df_july['start_lng'], df_july['end_lat'], df_july['end_lng'])\n"
   ]
  },
  {
   "cell_type": "code",
   "execution_count": 12,
   "id": "2fd2ab0d-ceb5-409f-a1b8-7865ecdb9b60",
   "metadata": {},
   "outputs": [],
   "source": [
    "#filtering out outlier trips, cleans up plot\n",
    "july_df_filtered = df_july[(df_july['duration_min'] > 1) & (df_july['duration_min'] < 200) & \n",
    "                 (df_july['distance_km'] > 0.1) & (df_july['distance_km'] < 20)]"
   ]
  },
  {
   "cell_type": "code",
   "execution_count": 13,
   "id": "54bd0be4-d7a3-490f-ab2a-c158ef3e6cab",
   "metadata": {},
   "outputs": [],
   "source": [
    "#sampling 200,000\n",
    "sample_size = 200000\n",
    "july_sampled = july_df_filtered.sample(n=sample_size, random_state=42)\n",
    "\n"
   ]
  },
  {
   "cell_type": "code",
   "execution_count": 14,
   "id": "62b2500d-00d9-4968-a98e-f9fef8851e2a",
   "metadata": {},
   "outputs": [],
   "source": [
    "#print to csv for use\n",
    "july_sampled.to_csv(\"july_sampled.csv\", index=False)\n"
   ]
  },
  {
   "cell_type": "markdown",
   "id": "2e4e1c5c-079b-4058-9ca9-ed9cd341a5b1",
   "metadata": {},
   "source": [
    "Network Creation"
   ]
  },
  {
   "cell_type": "code",
   "execution_count": 7,
   "id": "cb1c5fae-c443-4fdc-8f4e-7a2670d802b8",
   "metadata": {},
   "outputs": [],
   "source": [
    "all_rides_df = pd.concat(monthly_dfs.values(), ignore_index=True)\n"
   ]
  },
  {
   "cell_type": "code",
   "execution_count": null,
   "id": "336504f0-0f32-4f7e-af6c-717fad79a1e7",
   "metadata": {},
   "outputs": [],
   "source": [
    "all_rides_sampled = all_rides_df.sample(n=200000, random_state=42)"
   ]
  },
  {
   "cell_type": "code",
   "execution_count": 3,
   "id": "a7443055-4df8-48b2-a4d8-79d57d5affed",
   "metadata": {},
   "outputs": [],
   "source": [
    "#load manhattan neighborhood geojson file\n",
    "neighborhoods = gpd.read_file(\"data/nyc_neighborhoods.geojson\")\n"
   ]
  },
  {
   "cell_type": "code",
   "execution_count": 19,
   "id": "dd902c1c-571b-40d4-855a-3a08540e2b68",
   "metadata": {},
   "outputs": [],
   "source": [
    "#map[ing to geo points\n",
    "gdf_start = gpd.GeoDataFrame(\n",
    "    all_rides_sampled,\n",
    "    geometry=[Point(xy) for xy in zip(all_rides_sampled.start_lng, all_rides_sampled.start_lat)],\n",
    "    crs=\"EPSG:4326\"\n",
    ")\n",
    "gdf_end = gpd.GeoDataFrame(\n",
    "    all_rides_sampled.copy(),\n",
    "    geometry=[Point(xy) for xy in zip(all_rides_sampled.end_lng, all_rides_sampled.end_lat)],\n",
    "    crs=\"EPSG:4326\"\n",
    ")"
   ]
  },
  {
   "cell_type": "code",
   "execution_count": 20,
   "id": "5f614b14-1ac8-45a0-bf86-a6a2f86aef9a",
   "metadata": {},
   "outputs": [],
   "source": [
    "#left joining dfs to the neighborhoods file, based on geometry\n",
    "gdf_joined = gpd.sjoin(\n",
    "    gdf_start,\n",
    "    neighborhoods[['neighborhood', 'boroughCode', 'borough', 'geometry']],\n",
    "    how=\"left\",\n",
    "    predicate=\"within\"\n",
    ")\n",
    "gdf_end_joined = gpd.sjoin(\n",
    "    gdf_end[['ride_id', 'geometry']],\n",
    "    neighborhoods[['neighborhood', 'boroughCode', 'borough', 'geometry']],\n",
    "    how=\"left\",\n",
    "    predicate=\"within\"\n",
    ")\n"
   ]
  },
  {
   "cell_type": "code",
   "execution_count": 21,
   "id": "b1390016-35f4-42fb-a743-d57c02b1d273",
   "metadata": {},
   "outputs": [],
   "source": [
    "#names were messy\n",
    "gdf_end_joined = gdf_end_joined.rename(columns={\n",
    "    'neighborhood': 'end_neighborhood',\n",
    "    'boroughCode': 'end_boroughCode',\n",
    "    'borough': 'end_borough'\n",
    "})\n",
    "\n",
    "final_df = gdf_joined.merge(\n",
    "    gdf_end_joined[['ride_id', 'end_neighborhood', 'end_boroughCode', 'end_borough']],\n",
    "    on='ride_id',\n",
    "    how='left'\n",
    ")\n",
    "#only manhattan\n",
    "filtered__ride_df = final_df[\n",
    "    (final_df['boroughCode'] == \"1\") &\n",
    "    (final_df['end_boroughCode'] == \"1\")\n",
    "]\n",
    "\n",
    "#getting rid of loops\n",
    "fil_ride_df = filtered__ride_df[\n",
    "    (filtered__ride_df['neighborhood'] != filtered__ride_df['end_neighborhood'])\n",
    "]\n"
   ]
  },
  {
   "cell_type": "code",
   "execution_count": 22,
   "id": "18fbb8e9-a73d-4630-b7c3-125a13f0e07e",
   "metadata": {},
   "outputs": [],
   "source": [
    "fil_ride_df.to_csv(\"fil_ride_df.csv\", index=False)\n"
   ]
  }
 ],
 "metadata": {
  "kernelspec": {
   "display_name": "Python 3 (ipykernel)",
   "language": "python",
   "name": "python3"
  },
  "language_info": {
   "codemirror_mode": {
    "name": "ipython",
    "version": 3
   },
   "file_extension": ".py",
   "mimetype": "text/x-python",
   "name": "python",
   "nbconvert_exporter": "python",
   "pygments_lexer": "ipython3",
   "version": "3.9.13"
  }
 },
 "nbformat": 4,
 "nbformat_minor": 5
}
