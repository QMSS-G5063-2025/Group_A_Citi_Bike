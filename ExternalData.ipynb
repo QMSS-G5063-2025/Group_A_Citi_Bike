{
 "cells": [
  {
   "cell_type": "code",
   "execution_count": 3,
   "id": "fc6d35db",
   "metadata": {},
   "outputs": [
    {
     "name": "stdout",
     "output_type": "stream",
     "text": [
      "\n",
      "\u001b[1m[\u001b[0m\u001b[34;49mnotice\u001b[0m\u001b[1;39;49m]\u001b[0m\u001b[39;49m A new release of pip is available: \u001b[0m\u001b[31;49m23.2.1\u001b[0m\u001b[39;49m -> \u001b[0m\u001b[32;49m25.0.1\u001b[0m\n",
      "\u001b[1m[\u001b[0m\u001b[34;49mnotice\u001b[0m\u001b[1;39;49m]\u001b[0m\u001b[39;49m To update, run: \u001b[0m\u001b[32;49mpip install --upgrade pip\u001b[0m\n",
      "\n",
      "\u001b[1m[\u001b[0m\u001b[34;49mnotice\u001b[0m\u001b[1;39;49m]\u001b[0m\u001b[39;49m A new release of pip is available: \u001b[0m\u001b[31;49m23.2.1\u001b[0m\u001b[39;49m -> \u001b[0m\u001b[32;49m25.0.1\u001b[0m\n",
      "\u001b[1m[\u001b[0m\u001b[34;49mnotice\u001b[0m\u001b[1;39;49m]\u001b[0m\u001b[39;49m To update, run: \u001b[0m\u001b[32;49mpip install --upgrade pip\u001b[0m\n",
      "\n",
      "\u001b[1m[\u001b[0m\u001b[34;49mnotice\u001b[0m\u001b[1;39;49m]\u001b[0m\u001b[39;49m A new release of pip is available: \u001b[0m\u001b[31;49m23.2.1\u001b[0m\u001b[39;49m -> \u001b[0m\u001b[32;49m25.0.1\u001b[0m\n",
      "\u001b[1m[\u001b[0m\u001b[34;49mnotice\u001b[0m\u001b[1;39;49m]\u001b[0m\u001b[39;49m To update, run: \u001b[0m\u001b[32;49mpip install --upgrade pip\u001b[0m\n",
      "\n",
      "\u001b[1m[\u001b[0m\u001b[34;49mnotice\u001b[0m\u001b[1;39;49m]\u001b[0m\u001b[39;49m A new release of pip is available: \u001b[0m\u001b[31;49m23.2.1\u001b[0m\u001b[39;49m -> \u001b[0m\u001b[32;49m25.0.1\u001b[0m\n",
      "\u001b[1m[\u001b[0m\u001b[34;49mnotice\u001b[0m\u001b[1;39;49m]\u001b[0m\u001b[39;49m To update, run: \u001b[0m\u001b[32;49mpip install --upgrade pip\u001b[0m\n",
      "\n",
      "\u001b[1m[\u001b[0m\u001b[34;49mnotice\u001b[0m\u001b[1;39;49m]\u001b[0m\u001b[39;49m A new release of pip is available: \u001b[0m\u001b[31;49m23.2.1\u001b[0m\u001b[39;49m -> \u001b[0m\u001b[32;49m25.0.1\u001b[0m\n",
      "\u001b[1m[\u001b[0m\u001b[34;49mnotice\u001b[0m\u001b[1;39;49m]\u001b[0m\u001b[39;49m To update, run: \u001b[0m\u001b[32;49mpip install --upgrade pip\u001b[0m\n",
      "\n",
      "\u001b[1m[\u001b[0m\u001b[34;49mnotice\u001b[0m\u001b[1;39;49m]\u001b[0m\u001b[39;49m A new release of pip is available: \u001b[0m\u001b[31;49m23.2.1\u001b[0m\u001b[39;49m -> \u001b[0m\u001b[32;49m25.0.1\u001b[0m\n",
      "\u001b[1m[\u001b[0m\u001b[34;49mnotice\u001b[0m\u001b[1;39;49m]\u001b[0m\u001b[39;49m To update, run: \u001b[0m\u001b[32;49mpip install --upgrade pip\u001b[0m\n"
     ]
    }
   ],
   "source": [
    "import sys\n",
    "!{sys.executable} -m pip -q install pandas\n",
    "!{sys.executable} -m pip -q install geopandas\n",
    "!{sys.executable} -m pip -q install folium\n",
    "!{sys.executable} -m pip -q install ipyleaflet\n",
    "!{sys.executable} -m pip -q install matplotlib\n",
    "!{sys.executable} -m pip -q install geopy\n"
   ]
  },
  {
   "cell_type": "markdown",
   "id": "9a134079",
   "metadata": {},
   "source": [
    "# Read in CITI Bike Station Locations"
   ]
  },
  {
   "cell_type": "code",
   "execution_count": 118,
   "id": "47fb869c",
   "metadata": {},
   "outputs": [],
   "source": [
    "import json\n",
    "bikeStationsFilepath = \"./input/citi_bike_station_information.json\"\n",
    "fp = open(bikeStationsFilepath, \"r\")\n",
    "stationInformation = json.load(fp)\n",
    "bikeStations = stationInformation[\"data\"][\"stations\"]"
   ]
  },
  {
   "cell_type": "markdown",
   "id": "a425b5d4",
   "metadata": {},
   "source": [
    "# NYC Income Data"
   ]
  },
  {
   "cell_type": "code",
   "execution_count": 1,
   "id": "a9540b90",
   "metadata": {},
   "outputs": [],
   "source": [
    "import geopandas as gpd\n",
    "import folium\n",
    "import matplotlib.pyplot as plt"
   ]
  },
  {
   "cell_type": "code",
   "execution_count": 2,
   "id": "0f0fbeb5",
   "metadata": {},
   "outputs": [],
   "source": [
    "boroughCol = \"borough\"\n",
    "neighborhoodsGeometryFilepath = \"./input/nyc_neighborhoods.geojson\"\n",
    "dfNeighborhoods = gpd.read_file(neighborhoodsGeometryFilepath)\n",
    "manhattanFilter = dfNeighborhoods[boroughCol] == \"Manhattan\"\n",
    "dfManhattan = dfNeighborhoods[manhattanFilter]"
   ]
  },
  {
   "cell_type": "markdown",
   "id": "e0ff2e2d",
   "metadata": {},
   "source": [
    "Differing neighborhood granularity amongst income data and GeoJSON data. Normalize the neighborhoods with manual mappings?"
   ]
  },
  {
   "cell_type": "markdown",
   "id": "8a614afc",
   "metadata": {},
   "source": [
    "# Subway Stops"
   ]
  },
  {
   "cell_type": "code",
   "execution_count": 22,
   "id": "965ee592",
   "metadata": {},
   "outputs": [],
   "source": [
    "import pandas as pd\n",
    "from geopy.distance import distance\n",
    "from geopy.geocoders import Nominatim\n",
    "import numpy as np\n",
    "import time"
   ]
  },
  {
   "cell_type": "code",
   "execution_count": 9,
   "id": "d02ae845",
   "metadata": {},
   "outputs": [],
   "source": [
    "trainStationsFilepath = \"./input/subway_stops.txt\"\n",
    "trainStopIdCol = \"stop_id\"\n",
    "trainStopLatCol = \"stop_lat\"\n",
    "trainStopLongCol = \"stop_lon\"\n",
    "bikeStationIdCol = \"station_id\"\n",
    "bikeStationLatitudeCol = \"lat\"\n",
    "bikeStationLongitudeCol = \"lon\"\n",
    "addressField = \"address\"\n",
    "neighborhoodField = \"neighbourhood\"\n",
    "boroughField = \"borough\"\n",
    "trainStopsAugmentedFilepath = \"./input/subway_stops_augmented.csv\"\n",
    "bikeStationsAugmentedFilepath = \"./input/bike_stations_augmented.csv\"\n",
    "dfTrainStops = pd.read_csv(trainStationsFilepath)\n",
    "dfBikeStations = pd.DataFrame(columns = [bikeStationIdCol, bikeStationLatitudeCol, bikeStationLongitudeCol])\n",
    "#Remove duplicate stops\n",
    "dfTrainStopsFiltered = dfTrainStops[~((dfTrainStops[trainStopIdCol].str.endswith(\"N\")) | (dfTrainStops[trainStopIdCol].str.endswith(\"S\")))]"
   ]
  },
  {
   "cell_type": "markdown",
   "id": "317d1908",
   "metadata": {},
   "source": [
    "Geocode train station data"
   ]
  },
  {
   "cell_type": "code",
   "execution_count": null,
   "id": "1a1e7afa",
   "metadata": {},
   "outputs": [],
   "source": [
    "def reverse_geocode_coordinates(latitude, longitude):\n",
    "    neighborhoodGeojsonField = \"neighborhood\"\n",
    "    geometryField = \"geometry\"\n",
    "    neighborhood = \"None\"\n",
    "    borough = \"None\"\n",
    "    for index, row in dfNeighborhoods.iterrows():\n",
    "        polygon = row[geometryField]\n",
    "        point = Point(longitude, latitude)\n",
    "        if point.within(polygon):\n",
    "           neighborhood = row[neighborhoodGeojsonField]\n",
    "           borough = row[boroughField]\n",
    "           break\n",
    "    return {neighborhoodField: neighborhood, boroughCol: borough}"
   ]
  },
  {
   "cell_type": "code",
   "execution_count": null,
   "id": "a358da5b",
   "metadata": {},
   "outputs": [
    {
     "name": "stderr",
     "output_type": "stream",
     "text": [
      "/var/folders/33/0fb406ns7l1dyhs68vq615540000gp/T/ipykernel_4669/318852425.py:17: SettingWithCopyWarning: \n",
      "A value is trying to be set on a copy of a slice from a DataFrame.\n",
      "Try using .loc[row_indexer,col_indexer] = value instead\n",
      "\n",
      "See the caveats in the documentation: https://pandas.pydata.org/pandas-docs/stable/user_guide/indexing.html#returning-a-view-versus-a-copy\n",
      "  dfTrainStopsFiltered[neighborhoodField] = neighborhoodVals\n",
      "/var/folders/33/0fb406ns7l1dyhs68vq615540000gp/T/ipykernel_4669/318852425.py:18: SettingWithCopyWarning: \n",
      "A value is trying to be set on a copy of a slice from a DataFrame.\n",
      "Try using .loc[row_indexer,col_indexer] = value instead\n",
      "\n",
      "See the caveats in the documentation: https://pandas.pydata.org/pandas-docs/stable/user_guide/indexing.html#returning-a-view-versus-a-copy\n",
      "  dfTrainStopsFiltered[boroughField] = boroughVals\n"
     ]
    }
   ],
   "source": [
    "boroughVals = list()\n",
    "neighborhoodVals = list()\n",
    "for index, row in dfTrainStopsFiltered.iterrows():\n",
    "    #Get location data and extract neighborhood and borough for the provided coordinates\n",
    "    locationData = reverse_geocode_coordinates(row[trainStopLatCol], row[trainStopLongCol])\n",
    "    neighborhoodVals.append(locationData[neighborhoodField])\n",
    "    boroughVals.append(locationData[boroughField])\n",
    "dfTrainStopsFiltered[neighborhoodField] = neighborhoodVals\n",
    "dfTrainStopsFiltered[boroughField] = boroughVals\n",
    "#Save reverse geocoded data to file\n",
    "dfTrainStopsFiltered.to_csv(trainStopsAugmentedFilepath, index = False)"
   ]
  },
  {
   "cell_type": "markdown",
   "id": "008ae88e",
   "metadata": {},
   "source": [
    "Augment Citi bike stations with neighborhood and borough information"
   ]
  },
  {
   "cell_type": "code",
   "execution_count": 123,
   "id": "9b12a6dd",
   "metadata": {},
   "outputs": [],
   "source": [
    "#Extract latitude and longitude for bike stations and store in dataframe\n",
    "for stationObj in bikeStations:\n",
    "    rowVals = [stationObj[bikeStationIdCol], stationObj[bikeStationLatitudeCol], stationObj[bikeStationLongitudeCol]]\n",
    "    dfBikeStations.loc[len(dfBikeStations)] = rowVals"
   ]
  },
  {
   "cell_type": "code",
   "execution_count": 125,
   "id": "be0b4034",
   "metadata": {},
   "outputs": [],
   "source": [
    "boroughVals = list()\n",
    "neighborhoodVals = list()\n",
    "for index, row in dfBikeStations.iterrows():\n",
    "    #Get location data and extract neighborhood and borough for the provided coordinates\n",
    "    locationData = reverse_geocode_coordinates(row[bikeStationLatitudeCol], row[bikeStationLongitudeCol])\n",
    "    neighborhoodVals.append(locationData[neighborhoodField])\n",
    "    boroughVals.append(locationData[boroughField])\n",
    "dfBikeStations[neighborhoodField] = neighborhoodVals\n",
    "dfBikeStations[boroughField] = boroughVals\n",
    "#Save reverse geocoded data to file\n",
    "dfBikeStations.to_csv(bikeStationsAugmentedFilepath, index = False)"
   ]
  },
  {
   "cell_type": "markdown",
   "id": "16c1c96b",
   "metadata": {},
   "source": [
    "Compute distance to closest bike station for each train station"
   ]
  },
  {
   "cell_type": "code",
   "execution_count": 158,
   "id": "1214473d",
   "metadata": {},
   "outputs": [],
   "source": [
    "def closest_bike_station_distance(trainStopCoord, dfBikeStations):\n",
    "    #Initialize variable to track the distance from the train stop to the closest bike station\n",
    "    closestBikeStationDistance = np.inf\n",
    "    #Find the closest bike station out of all the possible bike stations\n",
    "    for index, row in dfBikeStations.iterrows():\n",
    "        bikeStationCoord = (row[bikeStationLatitudeCol], row[bikeStationLongitudeCol])\n",
    "        #Compute distance between train stop and bike station using GeoPy package\n",
    "        bikeStationDistance = distance(trainStopCoord, bikeStationCoord).km\n",
    "        if bikeStationDistance < closestBikeStationDistance:\n",
    "            closestBikeStationDistance = bikeStationDistance\n",
    "    return closestBikeStationDistance"
   ]
  },
  {
   "cell_type": "code",
   "execution_count": 159,
   "id": "8ccf5c93",
   "metadata": {},
   "outputs": [],
   "source": [
    "#For each train stop, compute the distance and append this to dataframe for train stops\n",
    "distanceCol = \"distance_to_closest_bike_station\"\n",
    "dfTrainStopsAugmented = pd.read_csv(trainStopsAugmentedFilepath)\n",
    "dfBikeStationsAugmented = pd.read_csv(bikeStationsAugmentedFilepath)\n",
    "distanceVals = list()\n",
    "for index, row in dfTrainStopsAugmented.iterrows():\n",
    "    trainStopCoord = (row[trainStopLatCol], row[trainStopLongCol])\n",
    "    distanceVals.append(closest_bike_station_distance(trainStopCoord, dfBikeStations))\n",
    "dfTrainStopsAugmented[distanceCol] = distanceVals\n",
    "dfTrainStopsAugmented.to_csv(trainStopsAugmentedFilepath, index = False)"
   ]
  },
  {
   "cell_type": "markdown",
   "id": "ee3a4b26",
   "metadata": {},
   "source": [
    "Instead of making a table grouped by subway line, make a table grouped by borough or neighborhood (use lat/long of station to geocode)\n",
    "\n",
    "Number of train stations, number of Citi bike stations, average distance from train station to closest bike station"
   ]
  },
  {
   "cell_type": "code",
   "execution_count": 7,
   "id": "e63bc54e",
   "metadata": {},
   "outputs": [],
   "source": [
    "import pandas as pd"
   ]
  },
  {
   "cell_type": "code",
   "execution_count": 11,
   "id": "30e9f48b",
   "metadata": {},
   "outputs": [
    {
     "data": {
      "text/html": [
       "<div>\n",
       "<style scoped>\n",
       "    .dataframe tbody tr th:only-of-type {\n",
       "        vertical-align: middle;\n",
       "    }\n",
       "\n",
       "    .dataframe tbody tr th {\n",
       "        vertical-align: top;\n",
       "    }\n",
       "\n",
       "    .dataframe thead th {\n",
       "        text-align: right;\n",
       "    }\n",
       "</style>\n",
       "<table border=\"1\" class=\"dataframe\">\n",
       "  <thead>\n",
       "    <tr style=\"text-align: right;\">\n",
       "      <th></th>\n",
       "      <th>neighbourhood</th>\n",
       "      <th>bike_station_count</th>\n",
       "    </tr>\n",
       "  </thead>\n",
       "  <tbody>\n",
       "    <tr>\n",
       "      <th>0</th>\n",
       "      <td>Astoria</td>\n",
       "      <td>49</td>\n",
       "    </tr>\n",
       "    <tr>\n",
       "      <th>1</th>\n",
       "      <td>Battery Park City</td>\n",
       "      <td>7</td>\n",
       "    </tr>\n",
       "    <tr>\n",
       "      <th>2</th>\n",
       "      <td>Bay Ridge</td>\n",
       "      <td>6</td>\n",
       "    </tr>\n",
       "    <tr>\n",
       "      <th>3</th>\n",
       "      <td>Bedford-Stuyvesant</td>\n",
       "      <td>83</td>\n",
       "    </tr>\n",
       "    <tr>\n",
       "      <th>4</th>\n",
       "      <td>Belmont</td>\n",
       "      <td>14</td>\n",
       "    </tr>\n",
       "    <tr>\n",
       "      <th>...</th>\n",
       "      <td>...</td>\n",
       "      <td>...</td>\n",
       "    </tr>\n",
       "    <tr>\n",
       "      <th>99</th>\n",
       "      <td>West Farms</td>\n",
       "      <td>9</td>\n",
       "    </tr>\n",
       "    <tr>\n",
       "      <th>100</th>\n",
       "      <td>West Village</td>\n",
       "      <td>21</td>\n",
       "    </tr>\n",
       "    <tr>\n",
       "      <th>101</th>\n",
       "      <td>Williamsburg</td>\n",
       "      <td>80</td>\n",
       "    </tr>\n",
       "    <tr>\n",
       "      <th>102</th>\n",
       "      <td>Windsor Terrace</td>\n",
       "      <td>12</td>\n",
       "    </tr>\n",
       "    <tr>\n",
       "      <th>103</th>\n",
       "      <td>Woodside</td>\n",
       "      <td>35</td>\n",
       "    </tr>\n",
       "  </tbody>\n",
       "</table>\n",
       "<p>104 rows × 2 columns</p>\n",
       "</div>"
      ],
      "text/plain": [
       "          neighbourhood  bike_station_count\n",
       "0               Astoria                  49\n",
       "1     Battery Park City                   7\n",
       "2             Bay Ridge                   6\n",
       "3    Bedford-Stuyvesant                  83\n",
       "4               Belmont                  14\n",
       "..                  ...                 ...\n",
       "99           West Farms                   9\n",
       "100        West Village                  21\n",
       "101        Williamsburg                  80\n",
       "102     Windsor Terrace                  12\n",
       "103            Woodside                  35\n",
       "\n",
       "[104 rows x 2 columns]"
      ]
     },
     "execution_count": 11,
     "metadata": {},
     "output_type": "execute_result"
    }
   ],
   "source": [
    "dfBikeStationsAugmented = pd.read_csv(bikeStationsAugmentedFilepath)\n",
    "dfBikeStationsGrouped = dfBikeStationsAugmented.groupby(neighborhoodField).agg({bikeStationIdCol:\"count\"}).reset_index()\n",
    "dfBikeStationsGrouped = dfBikeStationsGrouped.rename(columns = {\"station_id\":\"bike_station_count\"})\n",
    "dfBikeStationsGrouped"
   ]
  },
  {
   "cell_type": "code",
   "execution_count": 13,
   "id": "ff6ef20a",
   "metadata": {},
   "outputs": [
    {
     "data": {
      "text/html": [
       "<div>\n",
       "<style scoped>\n",
       "    .dataframe tbody tr th:only-of-type {\n",
       "        vertical-align: middle;\n",
       "    }\n",
       "\n",
       "    .dataframe tbody tr th {\n",
       "        vertical-align: top;\n",
       "    }\n",
       "\n",
       "    .dataframe thead th {\n",
       "        text-align: right;\n",
       "    }\n",
       "</style>\n",
       "<table border=\"1\" class=\"dataframe\">\n",
       "  <thead>\n",
       "    <tr style=\"text-align: right;\">\n",
       "      <th></th>\n",
       "      <th>neighbourhood</th>\n",
       "      <th>train_station_count</th>\n",
       "      <th>average_distance_to_bike_station</th>\n",
       "    </tr>\n",
       "  </thead>\n",
       "  <tbody>\n",
       "    <tr>\n",
       "      <th>0</th>\n",
       "      <td>Allerton</td>\n",
       "      <td>2</td>\n",
       "      <td>1.704</td>\n",
       "    </tr>\n",
       "    <tr>\n",
       "      <th>1</th>\n",
       "      <td>Arverne</td>\n",
       "      <td>2</td>\n",
       "      <td>13.122</td>\n",
       "    </tr>\n",
       "    <tr>\n",
       "      <th>2</th>\n",
       "      <td>Astoria</td>\n",
       "      <td>4</td>\n",
       "      <td>0.082</td>\n",
       "    </tr>\n",
       "    <tr>\n",
       "      <th>3</th>\n",
       "      <td>Bath Beach</td>\n",
       "      <td>1</td>\n",
       "      <td>3.560</td>\n",
       "    </tr>\n",
       "    <tr>\n",
       "      <th>4</th>\n",
       "      <td>Bay Ridge</td>\n",
       "      <td>2</td>\n",
       "      <td>0.530</td>\n",
       "    </tr>\n",
       "    <tr>\n",
       "      <th>...</th>\n",
       "      <td>...</td>\n",
       "      <td>...</td>\n",
       "      <td>...</td>\n",
       "    </tr>\n",
       "    <tr>\n",
       "      <th>128</th>\n",
       "      <td>Williamsburg</td>\n",
       "      <td>12</td>\n",
       "      <td>0.078</td>\n",
       "    </tr>\n",
       "    <tr>\n",
       "      <th>129</th>\n",
       "      <td>Windsor Terrace</td>\n",
       "      <td>2</td>\n",
       "      <td>0.093</td>\n",
       "    </tr>\n",
       "    <tr>\n",
       "      <th>130</th>\n",
       "      <td>Woodhaven</td>\n",
       "      <td>3</td>\n",
       "      <td>2.598</td>\n",
       "    </tr>\n",
       "    <tr>\n",
       "      <th>131</th>\n",
       "      <td>Woodrow</td>\n",
       "      <td>2</td>\n",
       "      <td>17.565</td>\n",
       "    </tr>\n",
       "    <tr>\n",
       "      <th>132</th>\n",
       "      <td>Woodside</td>\n",
       "      <td>4</td>\n",
       "      <td>0.074</td>\n",
       "    </tr>\n",
       "  </tbody>\n",
       "</table>\n",
       "<p>133 rows × 3 columns</p>\n",
       "</div>"
      ],
      "text/plain": [
       "       neighbourhood  train_station_count  average_distance_to_bike_station\n",
       "0           Allerton                    2                             1.704\n",
       "1            Arverne                    2                            13.122\n",
       "2            Astoria                    4                             0.082\n",
       "3         Bath Beach                    1                             3.560\n",
       "4          Bay Ridge                    2                             0.530\n",
       "..               ...                  ...                               ...\n",
       "128     Williamsburg                   12                             0.078\n",
       "129  Windsor Terrace                    2                             0.093\n",
       "130        Woodhaven                    3                             2.598\n",
       "131          Woodrow                    2                            17.565\n",
       "132         Woodside                    4                             0.074\n",
       "\n",
       "[133 rows x 3 columns]"
      ]
     },
     "execution_count": 13,
     "metadata": {},
     "output_type": "execute_result"
    }
   ],
   "source": [
    "distanceCol = \"distance_to_closest_bike_station\"\n",
    "dfTrainStopsAugmented = pd.read_csv(trainStopsAugmentedFilepath)\n",
    "dfTrainStopsGrouped = dfTrainStopsAugmented.groupby(neighborhoodField).agg({trainStopIdCol:\"count\", distanceCol:\"mean\"}).reset_index()\n",
    "dfTrainStopsGrouped = dfTrainStopsGrouped.rename(columns = {\"stop_id\":\"train_station_count\", \"distance_to_closest_bike_station\":\"average_distance_to_bike_station\"})\n",
    "dfTrainStopsGrouped[\"average_distance_to_bike_station\"] = round(dfTrainStopsGrouped[\"average_distance_to_bike_station\"], 3)\n",
    "dfTrainStopsGrouped"
   ]
  },
  {
   "cell_type": "code",
   "execution_count": 19,
   "id": "e4d72509",
   "metadata": {},
   "outputs": [
    {
     "data": {
      "text/html": [
       "<div>\n",
       "<style scoped>\n",
       "    .dataframe tbody tr th:only-of-type {\n",
       "        vertical-align: middle;\n",
       "    }\n",
       "\n",
       "    .dataframe tbody tr th {\n",
       "        vertical-align: top;\n",
       "    }\n",
       "\n",
       "    .dataframe thead th {\n",
       "        text-align: right;\n",
       "    }\n",
       "</style>\n",
       "<table border=\"1\" class=\"dataframe\">\n",
       "  <thead>\n",
       "    <tr style=\"text-align: right;\">\n",
       "      <th></th>\n",
       "      <th>Neighborhood</th>\n",
       "      <th>Number of Train Stations</th>\n",
       "      <th>Number of Bike Stations</th>\n",
       "      <th>Mean Distance from Train Stop to Bike Station (km)</th>\n",
       "    </tr>\n",
       "  </thead>\n",
       "  <tbody>\n",
       "    <tr>\n",
       "      <th>0</th>\n",
       "      <td>Astoria</td>\n",
       "      <td>4</td>\n",
       "      <td>49</td>\n",
       "      <td>0.082</td>\n",
       "    </tr>\n",
       "    <tr>\n",
       "      <th>1</th>\n",
       "      <td>Bay Ridge</td>\n",
       "      <td>2</td>\n",
       "      <td>6</td>\n",
       "      <td>0.530</td>\n",
       "    </tr>\n",
       "    <tr>\n",
       "      <th>2</th>\n",
       "      <td>Bedford-Stuyvesant</td>\n",
       "      <td>10</td>\n",
       "      <td>83</td>\n",
       "      <td>0.109</td>\n",
       "    </tr>\n",
       "    <tr>\n",
       "      <th>3</th>\n",
       "      <td>Boerum Hill</td>\n",
       "      <td>1</td>\n",
       "      <td>10</td>\n",
       "      <td>0.023</td>\n",
       "    </tr>\n",
       "    <tr>\n",
       "      <th>4</th>\n",
       "      <td>Bronx Park</td>\n",
       "      <td>1</td>\n",
       "      <td>1</td>\n",
       "      <td>0.942</td>\n",
       "    </tr>\n",
       "    <tr>\n",
       "      <th>...</th>\n",
       "      <td>...</td>\n",
       "      <td>...</td>\n",
       "      <td>...</td>\n",
       "      <td>...</td>\n",
       "    </tr>\n",
       "    <tr>\n",
       "      <th>73</th>\n",
       "      <td>West Farms</td>\n",
       "      <td>1</td>\n",
       "      <td>9</td>\n",
       "      <td>0.058</td>\n",
       "    </tr>\n",
       "    <tr>\n",
       "      <th>74</th>\n",
       "      <td>West Village</td>\n",
       "      <td>4</td>\n",
       "      <td>21</td>\n",
       "      <td>0.033</td>\n",
       "    </tr>\n",
       "    <tr>\n",
       "      <th>75</th>\n",
       "      <td>Williamsburg</td>\n",
       "      <td>12</td>\n",
       "      <td>80</td>\n",
       "      <td>0.078</td>\n",
       "    </tr>\n",
       "    <tr>\n",
       "      <th>76</th>\n",
       "      <td>Windsor Terrace</td>\n",
       "      <td>2</td>\n",
       "      <td>12</td>\n",
       "      <td>0.093</td>\n",
       "    </tr>\n",
       "    <tr>\n",
       "      <th>77</th>\n",
       "      <td>Woodside</td>\n",
       "      <td>4</td>\n",
       "      <td>35</td>\n",
       "      <td>0.074</td>\n",
       "    </tr>\n",
       "  </tbody>\n",
       "</table>\n",
       "<p>78 rows × 4 columns</p>\n",
       "</div>"
      ],
      "text/plain": [
       "          Neighborhood  Number of Train Stations  Number of Bike Stations  \\\n",
       "0              Astoria                         4                       49   \n",
       "1            Bay Ridge                         2                        6   \n",
       "2   Bedford-Stuyvesant                        10                       83   \n",
       "3          Boerum Hill                         1                       10   \n",
       "4           Bronx Park                         1                        1   \n",
       "..                 ...                       ...                      ...   \n",
       "73          West Farms                         1                        9   \n",
       "74        West Village                         4                       21   \n",
       "75        Williamsburg                        12                       80   \n",
       "76     Windsor Terrace                         2                       12   \n",
       "77            Woodside                         4                       35   \n",
       "\n",
       "    Mean Distance from Train Stop to Bike Station (km)  \n",
       "0                                               0.082   \n",
       "1                                               0.530   \n",
       "2                                               0.109   \n",
       "3                                               0.023   \n",
       "4                                               0.942   \n",
       "..                                                ...   \n",
       "73                                              0.058   \n",
       "74                                              0.033   \n",
       "75                                              0.078   \n",
       "76                                              0.093   \n",
       "77                                              0.074   \n",
       "\n",
       "[78 rows x 4 columns]"
      ]
     },
     "execution_count": 19,
     "metadata": {},
     "output_type": "execute_result"
    }
   ],
   "source": [
    "dfResult = dfTrainStopsGrouped.merge(dfBikeStationsGrouped, left_on = neighborhoodField, right_on = neighborhoodField, how = \"inner\")\n",
    "dfResult = dfResult.loc[:, [\"neighbourhood\", \"train_station_count\", \"bike_station_count\", \"average_distance_to_bike_station\"]]\n",
    "dfResult = dfResult.rename(columns = {\"neighbourhood\":\"Neighborhood\", \"train_station_count\":\"Number of Train Stations\", \"bike_station_count\":\"Number of Bike Stations\", \"average_distance_to_bike_station\":\"Mean Distance from Train Stop to Bike Station (km)\"})\n",
    "dfResult"
   ]
  },
  {
   "cell_type": "code",
   "execution_count": 20,
   "id": "b59d74a3",
   "metadata": {},
   "outputs": [],
   "source": [
    "neighborhoodStatsFilepath = \"./output/neighborhood_stats.csv\"\n",
    "dfResult.to_csv(neighborhoodStatsFilepath, index = False)"
   ]
  }
 ],
 "metadata": {
  "kernelspec": {
   "display_name": "myenv",
   "language": "python",
   "name": "python3"
  },
  "language_info": {
   "codemirror_mode": {
    "name": "ipython",
    "version": 3
   },
   "file_extension": ".py",
   "mimetype": "text/x-python",
   "name": "python",
   "nbconvert_exporter": "python",
   "pygments_lexer": "ipython3",
   "version": "3.11.5"
  }
 },
 "nbformat": 4,
 "nbformat_minor": 5
}
